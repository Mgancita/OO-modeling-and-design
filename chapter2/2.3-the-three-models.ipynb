{
 "cells": [
  {
   "cell_type": "markdown",
   "metadata": {},
   "source": [
    "## 2.3 The Three Models\n",
    "Object-Orientation it's useful to model a system from three related by differente viewpoints, each capturing important aspects of the system, and all required for a complete description. The three models are:\n",
    "\n",
    "1. Class\n",
    "2. State\n",
    "3. Interaction"
   ]
  },
  {
   "cell_type": "markdown",
   "metadata": {},
   "source": [
    "### Lets bring back `Student`\n",
    "To show these different models, I'll bring back the `Student` class to explain"
   ]
  },
  {
   "cell_type": "code",
   "execution_count": 1,
   "metadata": {},
   "outputs": [],
   "source": [
    "class Person:\n",
    "    \"\"\"Class to represent a Person.\"\"\"\n",
    "\n",
    "    def __init__(self, first_name: str, last_name: str, age: int) -> None:\n",
    "        \"\"\"Initialize Person.\n",
    "\n",
    "        Args:\n",
    "            first_name (str): First name of the person.\n",
    "            last_name (str): Last name of the person.\n",
    "            age (int): Age of the person.\n",
    "\n",
    "        \"\"\"\n",
    "        self.first_name = first_name\n",
    "        self.last_name = last_name\n",
    "        self.age = age\n",
    "\n",
    "    def say_hello(self) -> str:\n",
    "        \"\"\"Print 'hello'.\"\"\"\n",
    "        return \"hello\"\n",
    "\n",
    "class Student(Person):\n",
    "    \"\"\"Class of a Student.\"\"\"\n",
    "\n",
    "    def __init__(self, first_name: str, last_name: str, age: int, gpa: int) -> None:\n",
    "        \"\"\"Initialize a student.\n",
    "\n",
    "        Args:\n",
    "            first_name (str): First name of the student.\n",
    "            last_name (str): Last name of the student.\n",
    "            age (int): Age of the student.\n",
    "            gpa (int): Grade point average of the student.\n",
    "\n",
    "        \"\"\"\n",
    "        # This line of code passes the 'inheritied' attributes to Person to be saved.\n",
    "        super().__init__(first_name, last_name, age)\n",
    "\n",
    "        self.gpa = gpa\n",
    "\n",
    "    def info(self) -> None:\n",
    "        \"\"\"Give necessary information.\"\"\"\n",
    "        return f\"Hello, I'm a student named {self.first_name} {self.last_name} and my gpa is {self.gpa}.\""
   ]
  },
  {
   "cell_type": "markdown",
   "metadata": {},
   "source": [
    "### Class model\n",
    "The class model represents the data aspects of the system which are things like attributes. For `Student` these are `first_name`, `last_name`, `age`, and `gpa`."
   ]
  },
  {
   "cell_type": "markdown",
   "metadata": {},
   "source": [
    "### State model\n",
    "\n",
    "The state model describes the aspects of an object that are concerned with time and sequencing operations. For `Student` this is the process of first *instantiating* an instance then having it `say_hello()`."
   ]
  },
  {
   "cell_type": "code",
   "execution_count": 2,
   "metadata": {},
   "outputs": [
    {
     "output_type": "execute_result",
     "data": {
      "text/plain": "'hello'"
     },
     "metadata": {},
     "execution_count": 2
    }
   ],
   "source": [
    "student = Student(first_name=\"first\", last_name=\"last\", age=40, gpa=3.5)\n",
    "student.say_hello()"
   ]
  },
  {
   "cell_type": "markdown",
   "metadata": {},
   "source": [
    "### Interaction model\n",
    "The interaction model describes interactions between objects. For `Student` we'll have to incorporate the `Teacher` class to achieve this."
   ]
  },
  {
   "cell_type": "markdown",
   "metadata": {},
   "source": [
    "First lets bring in the `Teacher` class."
   ]
  },
  {
   "cell_type": "code",
   "execution_count": 4,
   "metadata": {},
   "outputs": [],
   "source": [
    "class Teacher(Person):\n",
    "    \"\"\"Class of a Teacher.\"\"\"\n",
    "\n",
    "    def __init__(self, first_name: str, last_name: str, age: int, department: str) -> None:\n",
    "        \"\"\"Initialize a teacher.\n",
    "\n",
    "        Args:\n",
    "            first_name (str): First name of the teacher.\n",
    "            last_name (str): Last name of the teacher.\n",
    "            age (int): Age of the teacher.\n",
    "            department (str): Department of the teacher.\n",
    "\n",
    "        \"\"\"\n",
    "        # This line of code passes the 'inheritied' attributes to Person to be saved.\n",
    "        super().__init__(first_name, last_name, age)\n",
    "\n",
    "        self.department = department\n",
    "\n",
    "    def info(self) -> None:\n",
    "        \"\"\"Give necessary information.\"\"\"\n",
    "        return f\"Hello, I'm a teacher named {self.first_name} {self.last_name} and I teach in the {self.department} department.\""
   ]
  },
  {
   "cell_type": "markdown",
   "metadata": {},
   "source": [
    "Now we'll update the `Student` class to have an advisor of type `Teacher`."
   ]
  },
  {
   "cell_type": "code",
   "execution_count": 5,
   "metadata": {},
   "outputs": [],
   "source": [
    "class Student(Person):\n",
    "    \"\"\"Class of a Student.\"\"\"\n",
    "\n",
    "    def __init__(self, first_name: str, last_name: str, age: int, gpa: int, advisor: Teacher) -> None:\n",
    "        \"\"\"Initialize a student.\n",
    "\n",
    "        Args:\n",
    "            first_name (str): First name of the student.\n",
    "            last_name (str): Last name of the student.\n",
    "            age (int): Age of the student.\n",
    "            gpa (int): Grade point average of the student.\n",
    "            advisor (Teacher): Advisor for classes.\n",
    "\n",
    "        \"\"\"\n",
    "        # This line of code passes the 'inheritied' attributes to Person to be saved.\n",
    "        super().__init__(first_name, last_name, age)\n",
    "\n",
    "        self.gpa = gpa\n",
    "        self.advisor = advisor\n",
    "\n",
    "    def info(self) -> None:\n",
    "        \"\"\"Give necessary information.\"\"\"\n",
    "        return f\"Hello, I'm a student named {self.first_name} {self.last_name} and my gpa is {self.gpa}.\""
   ]
  },
  {
   "cell_type": "markdown",
   "metadata": {},
   "source": [
    "Now lets create a teacher and make it the advisor for a student."
   ]
  },
  {
   "cell_type": "code",
   "execution_count": 12,
   "metadata": {},
   "outputs": [],
   "source": [
    "socrates = Teacher(first_name=\"Socrates\", last_name=\"?\", age=60, department=\"Philosophy\")\n",
    "plato = Student(first_name=\"Plato\", last_name=\"?\", age=20, gpa=4.0, advisor=socrates)"
   ]
  },
  {
   "cell_type": "code",
   "execution_count": 10,
   "metadata": {},
   "outputs": [
    {
     "output_type": "execute_result",
     "data": {
      "text/plain": "<__main__.Teacher at 0x1d1db6f9b70>"
     },
     "metadata": {},
     "execution_count": 10
    }
   ],
   "source": [
    "plato.advisor"
   ]
  },
  {
   "cell_type": "code",
   "execution_count": 11,
   "metadata": {},
   "outputs": [
    {
     "output_type": "execute_result",
     "data": {
      "text/plain": "\"Hello, I'm a teacher named Socrates ? and I teach in the Philosophy department.\""
     },
     "metadata": {},
     "execution_count": 11
    }
   ],
   "source": [
    "plato.advisor.info()"
   ]
  },
  {
   "cell_type": "markdown",
   "metadata": {},
   "source": [
    "We see that by having these interactions, we can further develop the complexity of our code with only adding a single attribute to `Student`!"
   ]
  }
 ],
 "metadata": {
  "language_info": {
   "codemirror_mode": {
    "name": "ipython",
    "version": 3
   },
   "file_extension": ".py",
   "mimetype": "text/x-python",
   "name": "python",
   "nbconvert_exporter": "python",
   "pygments_lexer": "ipython3",
   "version": 3
  },
  "orig_nbformat": 2,
  "kernelspec": {
   "name": "python_defaultSpec_1594131443460",
   "display_name": "Python 3.7.0 64-bit"
  }
 },
 "nbformat": 4,
 "nbformat_minor": 2
}