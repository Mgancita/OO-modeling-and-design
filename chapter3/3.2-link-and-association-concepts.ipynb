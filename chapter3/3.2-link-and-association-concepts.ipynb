{
 "cells": [
  {
   "cell_type": "markdown",
   "metadata": {},
   "source": [
    "## 3.2 Link and Association Concepts\n",
    "Links and associations are the means of establishing relationships among objects and classes.\n",
    "\n",
    "### Links and Assocations\n",
    "A *link* is the direct connection among objects. For example, in the previous section `plato` is **AdvisedBy** by `socrates` which is a direct link between two objects. Additionally the `advisor` attribute is called a *reference* as it makes reference to another object.\n",
    "\n",
    "An *association* is a group of links with common structure and semantics. This typically means the generic relation between two or more classes. On a class level, a `Student` instance is always **AdvisedBy** a `Teacher` instance."
   ]
  },
  {
   "cell_type": "markdown",
   "metadata": {},
   "source": [
    "### Multiplicity\n",
    "Multiplicity specifies the number of instances of one class that may relate to a single instance of an associated class.  \n",
    "<br>\n",
    "For example, the `Student`/`Teacher` association of **AdvisedBy** has a one-to-many multiplicity. Each `Student` can only have 1 advisor while a `Teacher` may advise several `Student`s. This is called a *one-to-many* association. Now lets use the `Course` class to create a `many-to-many` association.\n",
    "\n",
    "NOTE: The name **AdvisedBy** is purely for diagrams (isn't seen in the code and camel case is standard). For now the walk-through doesn't show diagrams alongside the code but it's good to have in mind how/why each reference is made."
   ]
  },
  {
   "cell_type": "markdown",
   "metadata": {},
   "source": [
    "First we'll bring in `Teacher` because `Course` will use it in a reference."
   ]
  },
  {
   "cell_type": "code",
   "execution_count": 19,
   "metadata": {},
   "outputs": [],
   "source": [
    "from typing import List\n",
    "\n",
    "class Person:\n",
    "    \"\"\"Class to represent a Person.\"\"\"\n",
    "\n",
    "    def __init__(self, first_name: str, last_name: str, age: int) -> None:\n",
    "        \"\"\"Initialize Person.\n",
    "\n",
    "        Args:\n",
    "            first_name (str): First name of the person.\n",
    "            last_name (str): Last name of the person.\n",
    "            age (int): Age of the person.\n",
    "\n",
    "        \"\"\"\n",
    "        self.first_name = first_name\n",
    "        self.last_name = last_name\n",
    "        self.age = age\n",
    "\n",
    "    def say_hello(self) -> str:\n",
    "        \"\"\"Print 'hello'.\"\"\"\n",
    "        return \"hello\"\n",
    "\n",
    "class Teacher(Person):\n",
    "    \"\"\"Class of a Teacher.\"\"\"\n",
    "\n",
    "    def __init__(self, first_name: str, last_name: str, age: int, department: str) -> None:\n",
    "        \"\"\"Initialize a teacher.\n",
    "\n",
    "        Args:\n",
    "            first_name (str): First name of the teacher.\n",
    "            last_name (str): Last name of the teacher.\n",
    "            age (int): Age of the teacher.\n",
    "            department (str): Department of the teacher.\n",
    "\n",
    "        \"\"\"\n",
    "        # This line of code passes the 'inheritied' attributes to Person to be saved.\n",
    "        super().__init__(first_name, last_name, age)\n",
    "\n",
    "        self.department = department\n",
    "\n",
    "    def info(self) -> None:\n",
    "        \"\"\"Give necessary information.\"\"\"\n",
    "        return f\"Hello, I'm a teacher named {self.first_name} {self.last_name} and I teach in the {self.department} department.\"\n",
    "\n",
    "    # Getter to allow for easy name retrieval\n",
    "    @property\n",
    "    def name(self) -> str:\n",
    "        \"Return full name.\"\n",
    "        return f\"{self.first_name} {self.last_name}\""
   ]
  },
  {
   "cell_type": "markdown",
   "metadata": {},
   "source": [
    "Now lets bring in `Course`."
   ]
  },
  {
   "cell_type": "code",
   "execution_count": 20,
   "metadata": {},
   "outputs": [],
   "source": [
    "class Course:\n",
    "    \"\"\"Class of a Course.\"\"\"\n",
    "\n",
    "    def __init__(self, course_name: str, course_code: str, instructor: Teacher) -> None:\n",
    "        \"\"\"Instantiate Course.\n",
    "\n",
    "        Args:\n",
    "            course_name (str): Name of course\n",
    "            course_code (str): Course identifier\n",
    "            instructor (Teacher): Person teaching the course\n",
    "        \n",
    "        \"\"\"\n",
    "        self.course_name = course_name\n",
    "        self.course_code = course_code\n",
    "        self.instructor = instructor\n",
    "\n",
    "    def info(self) -> str:\n",
    "        \"\"\"Give course info.\"\"\"\n",
    "        return f\"This is course {self.course_code}: {self.course_name} and taught by {self.instructor}\""
   ]
  },
  {
   "cell_type": "markdown",
   "metadata": {},
   "source": [
    "Lastly, lets load in `Student`. You'll see that it has a new attribute `courses` which is a list of `Course` instances."
   ]
  },
  {
   "cell_type": "code",
   "execution_count": 21,
   "metadata": {},
   "outputs": [],
   "source": [
    "class Student(Person):\n",
    "    \"\"\"Class of a Student.\"\"\"\n",
    "\n",
    "    def __init__(self, first_name: str, last_name: str, age: int, gpa: int, advisor: Teacher, courses: List[Course]) -> None:\n",
    "        \"\"\"Initialize a student.\n",
    "\n",
    "        Args:\n",
    "            first_name (str): First name of the student.\n",
    "            last_name (str): Last name of the student.\n",
    "            age (int): Age of the student.\n",
    "            gpa (int): Grade point average of the student.\n",
    "            advisor (Teacher): Advisor for classes.\n",
    "            courses (List[Course]): List of Courses the Student is taking.\n",
    "\n",
    "        \"\"\"\n",
    "        # This line of code passes the 'inheritied' attributes to Person to be saved.\n",
    "        super().__init__(first_name, last_name, age)\n",
    "\n",
    "        self.gpa = gpa\n",
    "        self.advisor = advisor\n",
    "        self.courses = courses\n",
    "\n",
    "    def info(self) -> None:\n",
    "        \"\"\"Give necessary information.\"\"\"\n",
    "        return f\"Hello, I'm a student named {self.first_name} {self.last_name} and my gpa is {self.gpa}.\""
   ]
  },
  {
   "cell_type": "markdown",
   "metadata": {},
   "source": [
    "Lets create a `Teacher`, some `Course`s, and a `Student`."
   ]
  },
  {
   "cell_type": "code",
   "execution_count": 23,
   "metadata": {},
   "outputs": [],
   "source": [
    "issac_newton = Teacher(first_name=\"Issac\", last_name=\"Newton\", age=21, department=\"Everything\")\n",
    "\n",
    "calc101 = Course(course_name=\"Calculus 101\", course_code=\"MA101\", instructor=issac_newton)\n",
    "calc102 = Course(course_name=\"Calculus 102\", course_code=\"MA102\", instructor=issac_newton)\n",
    "\n",
    "average_joe = Student(first_name=\"Average\", last_name=\"Joe\", age=18, gpa=2.5, advisor=issac_newton, courses=[calc101, calc102])"
   ]
  },
  {
   "cell_type": "code",
   "execution_count": 24,
   "metadata": {
    "tags": []
   },
   "outputs": [
    {
     "output_type": "stream",
     "name": "stdout",
     "text": "This is course MA101: Calculus 101 and taught by <__main__.Teacher object at 0x000002389A851EB8>\nThis is course MA102: Calculus 102 and taught by <__main__.Teacher object at 0x000002389A851EB8>\n"
    }
   ],
   "source": [
    "for course in average_joe.courses:\n",
    "    print(course.info())"
   ]
  },
  {
   "cell_type": "markdown",
   "metadata": {},
   "source": [
    "We can see here that a `Student` may have multiple courses. In addition, multiple `Student`s may enroll in the same course, therefore we have a *many-to-many* association. I used these examples to show the differences between types of multiplicty but it for sure was not exhaustive, some ones I missed are:\n",
    "\n",
    "  - Zero-to-one: Where a connection from an object to another is optional\n",
    "  - One-to-one: Where only one connection from an object to another is mandatory (maybe if an advisor could only advise one student)\n",
    "\n",
    "ENDING NOTE: Although having \"many\" connections is possibly for a single object (one `Student` has multiple `Course`s), you can only have **one link** between a pair of objects. For example, `average_joe` only connects to `calc101` once for the assocation of **TakesCourse**, to have another connection it must be for a seperation assocation (maybe **FavoriteCourse**)."
   ]
  }
 ],
 "metadata": {
  "language_info": {
   "codemirror_mode": {
    "name": "ipython",
    "version": 3
   },
   "file_extension": ".py",
   "mimetype": "text/x-python",
   "name": "python",
   "nbconvert_exporter": "python",
   "pygments_lexer": "ipython3",
   "version": 3
  },
  "orig_nbformat": 2,
  "kernelspec": {
   "name": "python_defaultSpec_1594221807155",
   "display_name": "Python 3.7.0 64-bit ('venv': venv)"
  }
 },
 "nbformat": 4,
 "nbformat_minor": 2
}