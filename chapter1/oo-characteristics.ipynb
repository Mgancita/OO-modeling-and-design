{
 "cells": [
  {
   "cell_type": "markdown",
   "metadata": {},
   "source": [
    "## What is Object-Orientation?\n",
    "The four necessary characteristics of an object-oriented language are:  \n",
    "\n",
    "  1. Identity \n",
    "  2. Classification  \n",
    "  3. Inheritance  \n",
    "  4. Polymorphism  "
   ]
  },
  {
   "cell_type": "markdown",
   "metadata": {},
   "source": [
    "### Identity\n",
    "The ability to have two *objects* that are distinct even if all their attributes (such as name and size) are identical."
   ]
  },
  {
   "cell_type": "code",
   "execution_count": 2,
   "metadata": {},
   "outputs": [],
   "source": [
    "x = [1, 2, 3]\n",
    "y = [1, 2, 3]"
   ]
  },
  {
   "cell_type": "code",
   "execution_count": 3,
   "metadata": {
    "tags": []
   },
   "outputs": [
    {
     "output_type": "stream",
     "name": "stdout",
     "text": "1605432006344\n1605432130824\n"
    }
   ],
   "source": [
    "print(id(x))\n",
    "print(id(y))"
   ]
  },
  {
   "cell_type": "markdown",
   "metadata": {},
   "source": [
    "We can see here that `x` and `y` are both a list of `[1,2,3]` but as they're both objects, they have a seperate *identity*."
   ]
  },
  {
   "cell_type": "markdown",
   "metadata": {},
   "source": [
    "### Classification\n",
    "Objects with the same data structure (*attributes*) and behavior (*operations*) are grouped into a *class*. To show this idea we will create a `Person` class in order to group all people into a similar classification.  \n",
    "<br>\n",
    "For our class the attributes will be `first_name`, `last_name`, and `age`. The operation will be `say_hello`."
   ]
  },
  {
   "cell_type": "code",
   "execution_count": 4,
   "metadata": {},
   "outputs": [],
   "source": [
    "class Person:\n",
    "    \"\"\"Class to represent a Person.\"\"\"\n",
    "\n",
    "    def __init__(self, first_name: str, last_name: str, age: int) -> None:\n",
    "        \"\"\"Initialize Person.\n",
    "\n",
    "        Args:\n",
    "            first_name (str): First name of the person.\n",
    "            last_name (str): Last name of the person.\n",
    "            age (int): Age of the person.\n",
    "\n",
    "        \"\"\"\n",
    "        self.first_name = first_name\n",
    "        self.last_name = last_name\n",
    "        self.age = age\n",
    "\n",
    "    def say_hello(self) -> str:\n",
    "        \"\"\"Print 'hello'.\"\"\"\n",
    "        return \"hello\""
   ]
  },
  {
   "cell_type": "markdown",
   "metadata": {},
   "source": [
    "In object-oriented languages, each object is the *instance* of a class. To show that, lets make an instance!"
   ]
  },
  {
   "cell_type": "code",
   "execution_count": 5,
   "metadata": {
    "tags": []
   },
   "outputs": [
    {
     "output_type": "execute_result",
     "data": {
      "text/plain": "'hello'"
     },
     "metadata": {},
     "execution_count": 5
    }
   ],
   "source": [
    "honest_abe = Person(first_name=\"Abraham\", last_name=\"Lincoln\", age=52)\n",
    "honest_abe.say_hello()"
   ]
  },
  {
   "cell_type": "markdown",
   "metadata": {},
   "source": [
    "He said hello! How exciting!  \n",
    "<br> \n",
    "As a quick excercise, think about how you would prove that identity works for this class?"
   ]
  },
  {
   "cell_type": "markdown",
   "metadata": {},
   "source": [
    "### Inheritance\n",
    "The sharing of attributes and operations among classes based on a hierarchical relationship. In this example we already have our *superclass* (`Person`). We will now build our first *subclass* called `Student`."
   ]
  },
  {
   "cell_type": "code",
   "execution_count": 6,
   "metadata": {},
   "outputs": [],
   "source": [
    "class Student(Person):\n",
    "    \"\"\"Class of a Student.\"\"\"\n",
    "\n",
    "    def __init__(self, first_name: str, last_name: str, age: int, gpa: int) -> None:\n",
    "        \"\"\"Initialize a student.\n",
    "\n",
    "        Args:\n",
    "            first_name (str): First name of the student.\n",
    "            last_name (str): Last name of the student.\n",
    "            age (int): Age of the student.\n",
    "            gpa (int): Grade point average of the student.\n",
    "\n",
    "        \"\"\"\n",
    "        # This line of code passes the 'inheritied' attributes to Person to be saved.\n",
    "        super().__init__(first_name, last_name, age)\n",
    "\n",
    "        self.gpa = gpa\n",
    "\n",
    "    def info(self) -> None:\n",
    "        \"\"\"Give necessary information.\"\"\"\n",
    "        return f\"Hello, I'm a student named {self.first_name} {self.last_name} and my gpa is {self.gpa}.\""
   ]
  },
  {
   "cell_type": "markdown",
   "metadata": {},
   "source": [
    "Lets create an instance of the `Student` class."
   ]
  },
  {
   "cell_type": "code",
   "execution_count": 7,
   "metadata": {},
   "outputs": [],
   "source": [
    "albert_einstein = Student(first_name=\"Albert\", last_name=\"Einstein\", age=\"18\", gpa=4.0)"
   ]
  },
  {
   "cell_type": "markdown",
   "metadata": {},
   "source": [
    "Now lets try to access an operation from the `Person` class we inheritied from."
   ]
  },
  {
   "cell_type": "code",
   "execution_count": 8,
   "metadata": {
    "tags": []
   },
   "outputs": [
    {
     "output_type": "execute_result",
     "data": {
      "text/plain": "'hello'"
     },
     "metadata": {},
     "execution_count": 8
    }
   ],
   "source": [
    "albert_einstein.say_hello()"
   ]
  },
  {
   "cell_type": "markdown",
   "metadata": {},
   "source": [
    "And now lets try for a attribute only accessible for a Student."
   ]
  },
  {
   "cell_type": "code",
   "execution_count": 9,
   "metadata": {},
   "outputs": [
    {
     "output_type": "execute_result",
     "data": {
      "text/plain": "4.0"
     },
     "metadata": {},
     "execution_count": 9
    }
   ],
   "source": [
    "albert_einstein.gpa"
   ]
  },
  {
   "cell_type": "markdown",
   "metadata": {},
   "source": [
    "With this, we can see that `Student` inheritied the attributes and operations of `Person` but was able to build upon it and add it's own attributes and operations."
   ]
  },
  {
   "cell_type": "markdown",
   "metadata": {},
   "source": [
    "## Polymorphism\n",
    "The same operation may behave differently for different classes. To properly show this I will create another subclass of `Person` called `Teacher`."
   ]
  },
  {
   "cell_type": "code",
   "execution_count": 10,
   "metadata": {},
   "outputs": [],
   "source": [
    "class Teacher(Person):\n",
    "    \"\"\"Class of a Teacher.\"\"\"\n",
    "\n",
    "    def __init__(self, first_name: str, last_name: str, age: int, department: str) -> None:\n",
    "        \"\"\"Initialize a teacher.\n",
    "\n",
    "        Args:\n",
    "            first_name (str): First name of the teacher.\n",
    "            last_name (str): Last name of the teacher.\n",
    "            age (int): Age of the teacher.\n",
    "            department (str): Department of the teacher.\n",
    "\n",
    "        \"\"\"\n",
    "        # This line of code passes the 'inheritied' attributes to Person to be saved.\n",
    "        super().__init__(first_name, last_name, age)\n",
    "\n",
    "        self.department = department\n",
    "\n",
    "    def info(self) -> None:\n",
    "        \"\"\"Give necessary information.\"\"\"\n",
    "        return f\"Hello, I'm a teacher named {self.first_name} {self.last_name} and I teach in the {self.department} department.\""
   ]
  },
  {
   "cell_type": "markdown",
   "metadata": {},
   "source": [
    "Lets create an instance as a teacher and use the info operation"
   ]
  },
  {
   "cell_type": "code",
   "execution_count": 11,
   "metadata": {},
   "outputs": [
    {
     "output_type": "execute_result",
     "data": {
      "text/plain": "\"Hello, I'm a teacher named Carl Sagan and I teach in the Astrophysics department.\""
     },
     "metadata": {},
     "execution_count": 11
    }
   ],
   "source": [
    "carl_sagan = Teacher(first_name=\"Carl\", last_name=\"Sagan\", age=62, department=\"Astrophysics\")\n",
    "carl_sagan.info()"
   ]
  },
  {
   "cell_type": "code",
   "execution_count": 12,
   "metadata": {},
   "outputs": [
    {
     "output_type": "execute_result",
     "data": {
      "text/plain": "\"Hello, I'm a student named Albert Einstein and my gpa is 4.0.\""
     },
     "metadata": {},
     "execution_count": 12
    }
   ],
   "source": [
    "albert_einstein.info()"
   ]
  },
  {
   "cell_type": "markdown",
   "metadata": {},
   "source": [
    "We see here that the two calls to `info()` each used a different *method*. A method is the implementation of an operation such as retreving someone's information. By having two classes, each with a different `info` method which have different implementations of the same operation, we show Polymorphism."
   ]
  }
 ],
 "metadata": {
  "language_info": {
   "codemirror_mode": {
    "name": "ipython",
    "version": 3
   },
   "file_extension": ".py",
   "mimetype": "text/x-python",
   "name": "python",
   "nbconvert_exporter": "python",
   "pygments_lexer": "ipython3",
   "version": 3
  },
  "orig_nbformat": 2,
  "kernelspec": {
   "name": "python_defaultSpec_1593691200982",
   "display_name": "Python 3.7.0 64-bit"
  }
 },
 "nbformat": 4,
 "nbformat_minor": 2
}