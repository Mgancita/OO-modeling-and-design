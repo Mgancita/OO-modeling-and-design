{
 "cells": [
  {
   "cell_type": "markdown",
   "metadata": {},
   "source": [
    "## OO Themes\n",
    "While \"What is Object-Oriented\" went over 4 characteristics that are necessary for OO languages. This section will mention some themes that aren't mandatory but are increasingly common in the OO world. They are as follows:\n",
    "\n",
    "1. [Abstraction](#Abstraction)\n",
    "2. [Encapsulation](#Abstraction)\n",
    "3. [Combining Data and Behavior](#Combining-Data-and-Behavior)\n",
    "4. [Sharing](#Sharing)\n",
    "5. [Emphasis on The Essence of an Object](#Emphasis-on-The-Essence-of-an-Object)\n",
    "6. [Synergy](#Synergy)\n",
    "\n",
    "As most of these are conceptual I will only be coding the first 2, the others will be explained by looking back as \"What-is-OO\" or by text examples."
   ]
  },
  {
   "cell_type": "markdown",
   "metadata": {},
   "source": [
    "### Abstraction\n",
    "The process of planning out essential aspects of an application while ignoring the details.  \n",
    "<br>\n",
    "Here we will revisit the `Student` class but make changes to it in order to make it *abstract*. Abstract is when a class can be inheritied from but can't be instantiated itself."
   ]
  },
  {
   "cell_type": "code",
   "execution_count": 6,
   "metadata": {},
   "outputs": [],
   "source": [
    "from abc import ABC, abstractmethod\n",
    "\n",
    "class Person(ABC):\n",
    "    \"\"\"Class to represent a Person.\"\"\"\n",
    "\n",
    "    def __init__(self, first_name: str, last_name: str, age: int) -> None:\n",
    "        \"\"\"Initialize Person.\n",
    "\n",
    "        Args:\n",
    "            first_name (str): First name of the person.\n",
    "            last_name (str): Last name of the person.\n",
    "            age (int): Age of the person.\n",
    "\n",
    "        \"\"\"\n",
    "        self.first_name = first_name\n",
    "        self.last_name = last_name\n",
    "        self.age = age\n",
    "\n",
    "    # This tells Python that the method isn't implemented in this class but just a placeholder\n",
    "    @abstractmethod\n",
    "    def say_hello(self) -> str:\n",
    "        \"\"\"Stub for 'say_hello' method.\"\"\"\n",
    "        raise NotImplementedError(\"Please create 'say_hello' method in your subclass.\")"
   ]
  },
  {
   "cell_type": "markdown",
   "metadata": {},
   "source": [
    "Here we see that we know every `Person` should be able to `say_hello` but we're just not sure how yet."
   ]
  },
  {
   "cell_type": "code",
   "execution_count": 13,
   "metadata": {},
   "outputs": [
    {
     "output_type": "error",
     "ename": "TypeError",
     "evalue": "Can't instantiate abstract class Person with abstract methods say_hello",
     "traceback": [
      "\u001b[1;31m---------------------------------------------------------------------------\u001b[0m",
      "\u001b[1;31mTypeError\u001b[0m                                 Traceback (most recent call last)",
      "\u001b[1;32m<ipython-input-13-7164529174ba>\u001b[0m in \u001b[0;36m<module>\u001b[1;34m\u001b[0m\n\u001b[1;32m----> 1\u001b[1;33m \u001b[0mPerson\u001b[0m\u001b[1;33m(\u001b[0m\u001b[1;34m\"test\"\u001b[0m\u001b[1;33m,\u001b[0m \u001b[1;34m\"test\"\u001b[0m\u001b[1;33m,\u001b[0m \u001b[1;36m0\u001b[0m\u001b[1;33m)\u001b[0m\u001b[1;33m\u001b[0m\u001b[0m\n\u001b[0m",
      "\u001b[1;31mTypeError\u001b[0m: Can't instantiate abstract class Person with abstract methods say_hello"
     ]
    }
   ],
   "source": [
    "Person(\"test\", \"test\", 0)"
   ]
  },
  {
   "cell_type": "markdown",
   "metadata": {},
   "source": [
    "Here we see that as the `Person` class is abstract, it cannot itself be instantiated. Lets try to inherit from it and make a *concrete* subclass."
   ]
  },
  {
   "cell_type": "code",
   "execution_count": 17,
   "metadata": {},
   "outputs": [],
   "source": [
    "class Student(Person):\n",
    "    \"\"\"Class of a Student.\"\"\"\n",
    "\n",
    "    def __init__(self, first_name: str, last_name: str, age: int, gpa: int) -> None:\n",
    "        \"\"\"Initialize a student.\n",
    "\n",
    "        Args:\n",
    "            first_name (str): First name of the student.\n",
    "            last_name (str): Last name of the student.\n",
    "            age (int): Age of the student.\n",
    "            gpa (int): Grade point average of the student.\n",
    "\n",
    "        \"\"\"\n",
    "        # This line of code passes the 'inheritied' attributes to Person to be saved.\n",
    "        super().__init__(first_name, last_name, age)\n",
    "\n",
    "        self.gpa = gpa\n",
    "\n",
    "    def info(self) -> None:\n",
    "        \"\"\"Give necessary information.\"\"\"\n",
    "        return f\"Hello, I'm a student named {self.first_name} {self.last_name} and my gpa is {self.gpa}.\""
   ]
  },
  {
   "cell_type": "code",
   "execution_count": 18,
   "metadata": {},
   "outputs": [
    {
     "output_type": "error",
     "ename": "TypeError",
     "evalue": "Can't instantiate abstract class Student with abstract methods say_hello",
     "traceback": [
      "\u001b[1;31m---------------------------------------------------------------------------\u001b[0m",
      "\u001b[1;31mTypeError\u001b[0m                                 Traceback (most recent call last)",
      "\u001b[1;32m<ipython-input-18-25afb1372baa>\u001b[0m in \u001b[0;36m<module>\u001b[1;34m\u001b[0m\n\u001b[1;32m----> 1\u001b[1;33m \u001b[0mmark_zuckerburg\u001b[0m \u001b[1;33m=\u001b[0m \u001b[0mStudent\u001b[0m\u001b[1;33m(\u001b[0m\u001b[1;34m\"Mark\"\u001b[0m\u001b[1;33m,\u001b[0m \u001b[1;34m\"Zuckerburg\"\u001b[0m\u001b[1;33m,\u001b[0m \u001b[1;36m18\u001b[0m\u001b[1;33m,\u001b[0m \u001b[1;36m4.0\u001b[0m\u001b[1;33m)\u001b[0m\u001b[1;33m\u001b[0m\u001b[0m\n\u001b[0m",
      "\u001b[1;31mTypeError\u001b[0m: Can't instantiate abstract class Student with abstract methods say_hello"
     ]
    }
   ],
   "source": [
    "mark_zuckerburg = Student(\"Mark\", \"Zuckerburg\", 18, 4.0)"
   ]
  },
  {
   "cell_type": "markdown",
   "metadata": {},
   "source": [
    "We see here that we haven't made a concrete method for the `say_hello` operation so we're still unable to make an instance of `Student`. Lets fix that."
   ]
  },
  {
   "cell_type": "code",
   "execution_count": 19,
   "metadata": {},
   "outputs": [],
   "source": [
    "class Student(Person):\n",
    "    \"\"\"Class of a Student.\"\"\"\n",
    "\n",
    "    def __init__(self, first_name: str, last_name: str, age: int, gpa: int) -> None:\n",
    "        \"\"\"Initialize a student.\n",
    "\n",
    "        Args:\n",
    "            first_name (str): First name of the student.\n",
    "            last_name (str): Last name of the student.\n",
    "            age (int): Age of the student.\n",
    "            gpa (int): Grade point average of the student.\n",
    "\n",
    "        \"\"\"\n",
    "        # This line of code passes the 'inheritied' attributes to Person to be saved.\n",
    "        super().__init__(first_name, last_name, age)\n",
    "\n",
    "        self.gpa = gpa\n",
    "\n",
    "    def info(self) -> None:\n",
    "        \"\"\"Give necessary information.\"\"\"\n",
    "        return f\"Hello, I'm a student named {self.first_name} {self.last_name} and my gpa is {self.gpa}.\"\n",
    "\n",
    "    # Added method\n",
    "    def say_hello(self) -> str:\n",
    "        \"\"\"Say hello.\"\"\"\n",
    "        return \"hello\""
   ]
  },
  {
   "cell_type": "code",
   "execution_count": 21,
   "metadata": {},
   "outputs": [
    {
     "output_type": "execute_result",
     "data": {
      "text/plain": "'hello'"
     },
     "metadata": {},
     "execution_count": 21
    }
   ],
   "source": [
    "mark_zuckerburg = Student(\"Mark\", \"Zuckerburg\", 18, 4.0)\n",
    "mark_zuckerburg.say_hello()"
   ]
  },
  {
   "cell_type": "markdown",
   "metadata": {},
   "source": [
    "Well that was pretty easy! We see here that abstraction is powerful as it allows for us to plan out our classes in advance and then worry about implementation as the time comes. Abstraction paired with inheritance and polymorphism will save you a lot of wasted code as together they're key to building reusable code."
   ]
  },
  {
   "cell_type": "markdown",
   "metadata": {},
   "source": [
    "### Encapsulation\n",
    "Seperating the external aspects of an object, that are accessible to other objects, from the internal implementation details, that are hidden from other objects.  \n",
    "<br>\n",
    "NOTE: Python does NOT have true encapsulation. Python's *private* attributes and methods aren't truly private because they're accessible outside of the class with a little bit of *data mangling*."
   ]
  },
  {
   "cell_type": "markdown",
   "metadata": {},
   "source": [
    "To show partial encapsulation we'll revisit the `Student` class. Let's add a private attribute called `school_name` which is hardcoded to \"Harvard\" to see how encapsulation works in Python. In python leading an attribute with a double underscore (\"__\") makes it \"private\"."
   ]
  },
  {
   "cell_type": "code",
   "execution_count": 23,
   "metadata": {},
   "outputs": [],
   "source": [
    "class Student(Person):\n",
    "    \"\"\"Class of a Student.\"\"\"\n",
    "\n",
    "    def __init__(self, first_name: str, last_name: str, age: int, gpa: int) -> None:\n",
    "        \"\"\"Initialize a student.\n",
    "\n",
    "        Args:\n",
    "            first_name (str): First name of the student.\n",
    "            last_name (str): Last name of the student.\n",
    "            age (int): Age of the student.\n",
    "            gpa (int): Grade point average of the student.\n",
    "\n",
    "        \"\"\"\n",
    "        # This line of code passes the 'inheritied' attributes to Person to be saved.\n",
    "        super().__init__(first_name, last_name, age)\n",
    "\n",
    "        self.gpa = gpa\n",
    "        self.__school_name = \"Harvard\"\n",
    "\n",
    "    def info(self) -> None:\n",
    "        \"\"\"Give necessary information.\"\"\"\n",
    "        return f\"Hello, I'm a student named {self.first_name} {self.last_name} and my gpa is {self.gpa}.\"\n",
    "\n",
    "    # Added method\n",
    "    def say_hello(self) -> str:\n",
    "        \"\"\"Say hello.\"\"\"\n",
    "        return \"hello\""
   ]
  },
  {
   "cell_type": "markdown",
   "metadata": {},
   "source": [
    "Let's instantiate mark again."
   ]
  },
  {
   "cell_type": "code",
   "execution_count": 24,
   "metadata": {},
   "outputs": [],
   "source": [
    "mark_zuckerburg = Student(\"Mark\", \"Zuckerburg\", 18, 4.0)"
   ]
  },
  {
   "cell_type": "code",
   "execution_count": 25,
   "metadata": {},
   "outputs": [
    {
     "output_type": "error",
     "ename": "AttributeError",
     "evalue": "'Student' object has no attribute '__school_name'",
     "traceback": [
      "\u001b[1;31m---------------------------------------------------------------------------\u001b[0m",
      "\u001b[1;31mAttributeError\u001b[0m                            Traceback (most recent call last)",
      "\u001b[1;32m<ipython-input-25-6ecd6744b974>\u001b[0m in \u001b[0;36m<module>\u001b[1;34m\u001b[0m\n\u001b[1;32m----> 1\u001b[1;33m \u001b[0mmark_zuckerburg\u001b[0m\u001b[1;33m.\u001b[0m\u001b[0m__school_name\u001b[0m\u001b[1;33m\u001b[0m\u001b[0m\n\u001b[0m",
      "\u001b[1;31mAttributeError\u001b[0m: 'Student' object has no attribute '__school_name'"
     ]
    }
   ],
   "source": [
    "mark_zuckerburg.__school_name"
   ]
  },
  {
   "cell_type": "markdown",
   "metadata": {},
   "source": [
    "We see here that we cannot access the `__school_name` attribute that exists in the `Student` class. But now we'll do some data mangling to get it out."
   ]
  },
  {
   "cell_type": "code",
   "execution_count": 26,
   "metadata": {},
   "outputs": [
    {
     "output_type": "execute_result",
     "data": {
      "text/plain": "'Harvard'"
     },
     "metadata": {},
     "execution_count": 26
    }
   ],
   "source": [
    "mark_zuckerburg._Student__school_name"
   ]
  },
  {
   "cell_type": "markdown",
   "metadata": {},
   "source": [
    "**The line of code above shows why Python does not have true private attributes or methods and therefore doesn't have true encapsulation**"
   ]
  },
  {
   "cell_type": "markdown",
   "metadata": {},
   "source": [
    "### Combining Data and Behavior\n",
    "Object-oriented languages combined the two by having them all within one class. As we can see for `Student` we can call the `info` method (behavior) to extract the `first_name`, `last_name`, and `gpa` attributes (gpa).\n",
    "\n",
    "### Sharing\n",
    "As we see with `Student` inheriting from `Person`, there is sharing among classses and objects in OO-languages. Everything I access `first_name` for a `Student` that information is being shared with underlying `Person` class. Sharing is key to building reusable code and reducing wasteful copying.\n",
    "\n",
    "### Emphasis on The Essence of an Object\n",
    "In OO-languages the emphasis is on the essence of an object NOT what it does. This is why the classes are called `Person`, `Student`, `Teacher` and not `Teachers_info`, `get_teacher_information`, etc. By focusing on the essence, we can build reusable and sustainable code.\n",
    "\n",
    "### Synergy\n",
    "As you have probably noticed by now, most of these themes and characteristics have similar benefits. This isn't an accident. The main benefit of these themes is not there individuality but rather how when used together properly allow for the creation of easy-to-read, reusable, sustainable, and scalable code."
   ]
  },
  {
   "cell_type": "markdown",
   "metadata": {},
   "source": []
  }
 ],
 "metadata": {
  "language_info": {
   "codemirror_mode": {
    "name": "ipython",
    "version": 3
   },
   "file_extension": ".py",
   "mimetype": "text/x-python",
   "name": "python",
   "nbconvert_exporter": "python",
   "pygments_lexer": "ipython3",
   "version": 3
  },
  "orig_nbformat": 2,
  "kernelspec": {
   "name": "python_defaultSpec_1593695842755",
   "display_name": "Python 3.7.0 64-bit ('venv': venv)"
  }
 },
 "nbformat": 4,
 "nbformat_minor": 2
}